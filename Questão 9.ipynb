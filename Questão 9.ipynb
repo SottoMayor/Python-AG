{
 "cells": [
  {
   "cell_type": "code",
   "execution_count": 36,
   "id": "2e5a14fc",
   "metadata": {},
   "outputs": [
    {
     "name": "stdout",
     "output_type": "stream",
     "text": [
      "Parameters of the best solution : [ 1.85378211 -0.67638991 -0.63665675  0.21783798 -0.35008592  0.39189208\n",
      "  0.24653239 -0.97595671  0.80188023  1.04537994 -0.34724266  1.94647921\n",
      "  0.30623494 -0.61429753  1.27350862 -0.38830825 -0.71719761  0.04508369\n",
      " -0.6928248  -0.17387138  0.35889634  1.15173017]\n",
      "Fitness value of the best solution = 2.8407118148663777\n",
      "Predicted output based on the best solution : [ 2.84071181  1.45694643  1.58153419  1.11578571  0.64991535  0.90125407\n",
      "  1.24507097  0.33094481  1.0473388   2.03438793  0.65405934 -0.93458441\n",
      "  0.94039868  1.26673918  1.94169443  0.86055719  0.63109147  1.04454703\n",
      "  1.15485423  0.87277332  0.65502987 -0.15002922]\n"
     ]
    }
   ],
   "source": [
    "import numpy as np\n",
    "import pygad\n",
    "\n",
    "desired_output = 2.85\n",
    "\n",
    "def fitness_func(ga_instance, solution, solution_idx):\n",
    "    x = solution[0]\n",
    "    fitness = x * np.sin(10 * np.pi * x) + 1\n",
    "    return fitness\n",
    "\n",
    "fitness_function = fitness_func\n",
    "\n",
    "num_generations = 6\n",
    "num_parents_mating = 4 # número de pais selecionados para reprodução\n",
    "\n",
    "sol_per_pop = 10 # Número de soluções criadas e evoluídas por geração\n",
    "num_genes = 22\n",
    "\n",
    "# Definição do intervalo de geração de genes\n",
    "init_range_low = -1 # limite do intervalo inferior\n",
    "init_range_high = 2 # limite do intervalo superior\n",
    "\n",
    "parent_selection_type = \"rws\" # Método da roleta\n",
    "crossover_type = \"single_point\" # crossover de 1 corte\n",
    "\n",
    "# Mutação de aleatória e com taxa de 0.5%\n",
    "mutation_type = \"random\"\n",
    "mutation_percent_genes = 0.01\n",
    "\n",
    "ga_instance = pygad.GA(num_generations=num_generations,\n",
    "                       num_parents_mating=num_parents_mating,\n",
    "                       fitness_func=fitness_function,\n",
    "                       sol_per_pop=sol_per_pop,\n",
    "                       num_genes=num_genes,\n",
    "                       init_range_low=init_range_low,\n",
    "                       init_range_high=init_range_high,\n",
    "                       parent_selection_type=parent_selection_type,\n",
    "                       crossover_type=crossover_type,\n",
    "                       mutation_type=mutation_type,\n",
    "                       mutation_percent_genes=mutation_percent_genes)\n",
    "\n",
    "ga_instance.run()\n",
    "\n",
    "solution, solution_fitness, solution_idx = ga_instance.best_solution()\n",
    "print(\"Parameters of the best solution : {solution}\".format(solution=solution))\n",
    "print(\"Fitness value of the best solution = {solution_fitness}\".format(solution_fitness=solution_fitness))\n",
    "\n",
    "prediction = solution * np.sin(10 * np.pi * solution) + 1\n",
    "print(\"Predicted output based on the best solution : {prediction}\".format(prediction=prediction))\n"
   ]
  }
 ],
 "metadata": {
  "kernelspec": {
   "display_name": "Python 3 (ipykernel)",
   "language": "python",
   "name": "python3"
  },
  "language_info": {
   "codemirror_mode": {
    "name": "ipython",
    "version": 3
   },
   "file_extension": ".py",
   "mimetype": "text/x-python",
   "name": "python",
   "nbconvert_exporter": "python",
   "pygments_lexer": "ipython3",
   "version": "3.9.13"
  }
 },
 "nbformat": 4,
 "nbformat_minor": 5
}
