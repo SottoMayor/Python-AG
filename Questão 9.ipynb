{
 "cells": [
  {
   "cell_type": "code",
   "execution_count": 3,
   "id": "2e5a14fc",
   "metadata": {},
   "outputs": [
    {
     "name": "stdout",
     "output_type": "stream",
     "text": [
      "Parameters of the best solution : [ 1.84520372  1.33818143  0.71497755  1.59619855  1.77425707 -0.72542144\n",
      "  0.09868228 -0.39781055 -0.35853934  1.73931448  0.17633273  0.23461162\n",
      "  0.81223611  0.60956297  1.46566455  1.46501406  0.06682329 -0.37477178\n",
      " -0.50168634  0.66692866 -0.47046244 -0.90775529]\n",
      "Fitness value of the best solution = 2.824296282618766\n",
      "Predicted output based on the best solution : [ 2.82429628 -0.2469972   0.67585629  0.80982521 -0.2835268   0.48030327\n",
      "  1.00408402  0.9726587   0.65428541 -0.6422284   0.88064216  1.20772537\n",
      "  1.3045976   1.18038826  2.29174128  2.30504311  1.05770557  0.73310319\n",
      "  0.97343408  1.574813    1.37655464  0.78101631]\n"
     ]
    }
   ],
   "source": [
    "import numpy as np\n",
    "import pygad\n",
    "\n",
    "desired_output = 2.85\n",
    "\n",
    "def fitness_func(ga_instance, solution, solution_idx):\n",
    "    x = solution[0]\n",
    "    fitness = x * np.sin(10 * np.pi * x) + 1\n",
    "    return fitness\n",
    "\n",
    "fitness_function = fitness_func\n",
    "\n",
    "num_generations = 6\n",
    "num_parents_mating = 4 # número de pais selecionados para reprodução\n",
    "\n",
    "sol_per_pop = 10 # Número de soluções criadas e evoluídas por geração\n",
    "num_genes = 22\n",
    "\n",
    "# Definição do intervalo de geração de genes\n",
    "init_range_low = -1 # limite do intervalo inferior\n",
    "init_range_high = 2 # limite do intervalo superior\n",
    "\n",
    "parent_selection_type = \"rws\" # Método da roleta\n",
    "crossover_type = \"single_point\" # crossover de 1 corte\n",
    "\n",
    "# Mutação de aleatória e com taxa de 0.5%\n",
    "mutation_type = \"random\"\n",
    "mutation_percent_genes = 0.01\n",
    "\n",
    "ga_instance = pygad.GA(num_generations=num_generations,\n",
    "                       num_parents_mating=num_parents_mating,\n",
    "                       fitness_func=fitness_function,\n",
    "                       sol_per_pop=sol_per_pop,\n",
    "                       num_genes=num_genes,\n",
    "                       init_range_low=init_range_low,\n",
    "                       init_range_high=init_range_high,\n",
    "                       parent_selection_type=parent_selection_type,\n",
    "                       crossover_type=crossover_type,\n",
    "                       mutation_type=mutation_type,\n",
    "                       mutation_percent_genes=mutation_percent_genes)\n",
    "\n",
    "ga_instance.run()\n",
    "\n",
    "solution, solution_fitness, solution_idx = ga_instance.best_solution()\n",
    "print(\"Parameters of the best solution : {solution}\".format(solution=solution))\n",
    "print(\"Fitness value of the best solution = {solution_fitness}\".format(solution_fitness=solution_fitness))\n",
    "\n",
    "prediction = solution * np.sin(10 * np.pi * solution) + 1\n",
    "print(\"Predicted output based on the best solution : {prediction}\".format(prediction=prediction))\n"
   ]
  }
 ],
 "metadata": {
  "kernelspec": {
   "display_name": "Python 3 (ipykernel)",
   "language": "python",
   "name": "python3"
  },
  "language_info": {
   "codemirror_mode": {
    "name": "ipython",
    "version": 3
   },
   "file_extension": ".py",
   "mimetype": "text/x-python",
   "name": "python",
   "nbconvert_exporter": "python",
   "pygments_lexer": "ipython3",
   "version": "3.9.13"
  }
 },
 "nbformat": 4,
 "nbformat_minor": 5
}
